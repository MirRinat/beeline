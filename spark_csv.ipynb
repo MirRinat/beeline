{
 "cells": [
  {
   "cell_type": "code",
   "execution_count": 12,
   "metadata": {},
   "outputs": [],
   "source": [
    "import findspark\n",
    "findspark.init()\n",
    "\n",
    "from pyspark.sql import SparkSession\n",
    "import pyspark.sql.functions as F\n",
    "from pyspark.sql.types import IntegerType\n",
    "from pyspark.sql import Window\n",
    "\n",
    "\n",
    "spark = SparkSession.builder.appName('spark_csv').getOrCreate()"
   ]
  },
  {
   "cell_type": "markdown",
   "metadata": {},
   "source": [
    "### Считать csv-файл из первого этапа и преобразовать данные этого файла в spark-dataframe"
   ]
  },
  {
   "cell_type": "code",
   "execution_count": 13,
   "metadata": {},
   "outputs": [],
   "source": [
    "df = spark.read.csv(path ='phones.csv',header=True)"
   ]
  },
  {
   "cell_type": "code",
   "execution_count": 14,
   "metadata": {},
   "outputs": [
    {
     "name": "stdout",
     "output_type": "stream",
     "text": [
      "+-------------------------------------------------+------+-------------------------+-----+------+\n",
      "|title                                            |price |seller                   |ram  |memory|\n",
      "+-------------------------------------------------+------+-------------------------+-----+------+\n",
      "|Apple iPhone 12 Pro 256Gb Pacific Blue           |558875|Mobilion                 |6 Гб |256Гб |\n",
      "|Xiaomi Poco X3 NFC 6/128Gb Cobalt Blue           |115100|i-Store                  |6 Гб |128Гб |\n",
      "|Xiaomi Redmi Note 9 Pro 6/128Gb Glacier White    |110000|i-Store                  |6 Гб |128Гб |\n",
      "|Xiaomi Redmi Note 9 Pro 6/64Gb Glacier White     |89480 |Great Choice             |6 Гб |64Гб  |\n",
      "|Xiaomi Redmi Note 9 Pro 6/64Gb Interstellar Gray |89480 |Great Choice             |6 Гб |64Гб  |\n",
      "|Xiaomi Redmi Note 9 Pro 6/64Gb Glacier White     |89634 |Tsmart.kz                |6 Гб |64Гб  |\n",
      "|Xiaomi Redmi 7 3/32Gb Blue                       |52900 |mobitron                 |3 Гб |32Гб  |\n",
      "|Samsung Galaxy S20 Ultra 5G 12/128Gb Cosmic Black|343489|Фирменный магазин техники|12 Гб|128Гб |\n",
      "|Apple iPhone 7 32Gb Rose Gold                    |137700|i-Store                  |2 Гб |32Гб  |\n",
      "|Xiaomi Redmi Note 9 Pro 6/128Gb Interstellar Gray|110000|i-Store                  |6 Гб |128Гб |\n",
      "+-------------------------------------------------+------+-------------------------+-----+------+\n",
      "\n"
     ]
    },
    {
     "data": {
      "text/plain": [
       "None"
      ]
     },
     "metadata": {},
     "output_type": "display_data"
    }
   ],
   "source": [
    "display(df.show(truncate=False))"
   ]
  },
  {
   "cell_type": "code",
   "execution_count": 17,
   "metadata": {},
   "outputs": [
    {
     "name": "stdout",
     "output_type": "stream",
     "text": [
      "+-------------+----------------+----------------------------+-----------------+\n",
      "|smartphone_id|smartphone_brand|smartphone_model            |smartphone_price |\n",
      "+-------------+----------------+----------------------------+-----------------+\n",
      "|1            |Xiaomi          |Poco X3 NFC 6/128Gb         |115100.0         |\n",
      "|2            |Xiaomi          |Redmi Note 9 Pro 6/128Gb    |110000.0         |\n",
      "|3            |Xiaomi          |Redmi 7                     |52900.0          |\n",
      "|4            |Apple           |iPhone 7 32Gb               |137700.0         |\n",
      "|5            |Xiaomi          |Redmi Note 9 Pro 6/64Gb     |89531.33333333333|\n",
      "|6            |Samsung         |Galaxy S20 Ultra 5G 12/128Gb|343489.0         |\n",
      "|7            |Apple           |iPhone 12 Pro 256Gb         |558875.0         |\n",
      "+-------------+----------------+----------------------------+-----------------+\n",
      "\n"
     ]
    }
   ],
   "source": [
    "split_col = F.split(df['title'], ' ')\n",
    "\n",
    "#Разделить поле title на два отдельных – smartphone_brand и smartphone_model. \n",
    "df1 = df.withColumn('smartphone_brand', F.split(df['title'],' ').getItem(0))\n",
    "df1 = df1.withColumn('smartphone_brand1', split_col.getItem(F.size(split_col)-1))\n",
    "df1 = df1.withColumn('smartphone_brand2', split_col.getItem(F.size(split_col)-2))\n",
    "df1 = df1.drop('seller','ram','memory')\n",
    "df1 = df1.withColumn('smartphone_model',F.expr('substring(title,length(smartphone_brand)+2, \\\n",
    "length(title)-length(smartphone_brand)-length(smartphone_brand1)-length(smartphone_brand2)-3)')).drop('smartphone_brand2','smartphone_brand1')\n",
    "# я не знал как сделать по-другому - ничего не нашел\n",
    "\n",
    "\n",
    "#Найти средние стоимости моделей смартфонов. \n",
    "df1 = df1.withColumn(\"price\", df1[\"price\"].cast(IntegerType()))\n",
    "df1 = df1.groupby('smartphone_brand','smartphone_model').agg(F.avg('price').alias('smartphone_price'))\n",
    "\n",
    "#Каждой уникальной записи dataframe’а необходимо присвоить свой порядковый smartphone_id, начиная с 1\n",
    "df1= df1.withColumn(\"new_column\",F.lit(\"ABC\"))\n",
    "w = Window().partitionBy('new_column').orderBy(F.lit('A'))\n",
    "df1 = df1.withColumn(\"smartphone_id\", F.row_number().over(w)).drop(\"new_column\")\n",
    "df1 = df1.select('smartphone_id', 'smartphone_brand', 'smartphone_model', 'smartphone_price')\n",
    "df1.show(10,False)\n",
    "\n",
    "\n",
    "\n"
   ]
  },
  {
   "cell_type": "code",
   "execution_count": 19,
   "metadata": {},
   "outputs": [],
   "source": [
    "df1.write.parquet(\"phones.parquet\")"
   ]
  },
  {
   "cell_type": "code",
   "execution_count": null,
   "metadata": {},
   "outputs": [],
   "source": []
  }
 ],
 "metadata": {
  "kernelspec": {
   "display_name": "Python 3",
   "language": "python",
   "name": "python3"
  },
  "language_info": {
   "codemirror_mode": {
    "name": "ipython",
    "version": 3
   },
   "file_extension": ".py",
   "mimetype": "text/x-python",
   "name": "python",
   "nbconvert_exporter": "python",
   "pygments_lexer": "ipython3",
   "version": "3.7.6"
  }
 },
 "nbformat": 4,
 "nbformat_minor": 1
}
