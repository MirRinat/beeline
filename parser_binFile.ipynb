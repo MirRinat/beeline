{
 "cells": [
  {
   "cell_type": "code",
   "execution_count": 201,
   "metadata": {},
   "outputs": [],
   "source": [
    "import struct\n",
    "import pandas as pd\n",
    "import re\n",
    "from datetime import datetime"
   ]
  },
  {
   "cell_type": "code",
   "execution_count": 202,
   "metadata": {},
   "outputs": [
    {
     "name": "stdout",
     "output_type": "stream",
     "text": [
      "b'\\x00\\x00\\x00\\x017051231234\\xe4\\x07\\n\\x04\\x0c\\x01\\x1d\\x00\\x00\\x00\\x027771231235\\xe4\\x07\\x02\\x19\\x03\\n\\x03\\x00\\x00\\x00\\x037051231236\\xe3\\x07\\x05\\x11\\x107(\\x00\\x00\\x00\\x047771233377\\xe4\\x07\\x0c\\x05\\x05\\x1e)\\x00\\x00\\x00\\x057051232255\\xe5\\x07\\x07\\t\\x14 2'\n"
     ]
    }
   ],
   "source": [
    "with open('data.bin',mode='rb') as f:\n",
    "    file_content = f.read()\n",
    "    print(file_content)"
   ]
  },
  {
   "cell_type": "code",
   "execution_count": 213,
   "metadata": {},
   "outputs": [
    {
     "name": "stdout",
     "output_type": "stream",
     "text": [
      "['1', '7051231234', datetime.datetime(2020, 10, 4, 12, 1, 29)]\n",
      "['2', '7771231235', datetime.datetime(2020, 2, 25, 3, 10, 3)]\n",
      "['3', '7051231236', datetime.datetime(2019, 5, 17, 16, 55, 40)]\n",
      "['4', '7771233377', datetime.datetime(2020, 12, 5, 5, 30, 41)]\n",
      "['5', '7051232255', datetime.datetime(2021, 7, 9, 20, 32, 50)]\n"
     ]
    }
   ],
   "source": [
    "df = pd.DataFrame(columns=['Номер','Номер телефона','Время события'])\n",
    "df\n",
    "row = []\n",
    "for i in range(len(file_content) // 21):\n",
    "    tab = i * 21\n",
    "    id_phone = str(struct.unpack(\">i\", file_content[tab+0:tab+4])).split('(')[1].split(',')[0]\n",
    "    number_phone = file_content[tab+4:tab+14].decode('utf-8')\n",
    "    date = datetime(*struct.unpack(\"<h5B\", file_content[tab+14:tab+21]))\n",
    "    row = list((id_phone,number_phone,date))\n",
    "    df = df.append(dict(zip(df.columns,row)),ignore_index=True)\n",
    "    print(row)\n",
    "df = df.set_index('Номер')"
   ]
  },
  {
   "cell_type": "code",
   "execution_count": 214,
   "metadata": {},
   "outputs": [],
   "source": [
    "df.to_csv('blacklist.csv')"
   ]
  },
  {
   "cell_type": "code",
   "execution_count": 216,
   "metadata": {},
   "outputs": [
    {
     "data": {
      "text/html": [
       "<div>\n",
       "<style scoped>\n",
       "    .dataframe tbody tr th:only-of-type {\n",
       "        vertical-align: middle;\n",
       "    }\n",
       "\n",
       "    .dataframe tbody tr th {\n",
       "        vertical-align: top;\n",
       "    }\n",
       "\n",
       "    .dataframe thead th {\n",
       "        text-align: right;\n",
       "    }\n",
       "</style>\n",
       "<table border=\"1\" class=\"dataframe\">\n",
       "  <thead>\n",
       "    <tr style=\"text-align: right;\">\n",
       "      <th></th>\n",
       "      <th>Номер телефона</th>\n",
       "      <th>Время события</th>\n",
       "    </tr>\n",
       "    <tr>\n",
       "      <th>Номер</th>\n",
       "      <th></th>\n",
       "      <th></th>\n",
       "    </tr>\n",
       "  </thead>\n",
       "  <tbody>\n",
       "    <tr>\n",
       "      <th>1</th>\n",
       "      <td>7051231234</td>\n",
       "      <td>2020-10-04 12:01:29</td>\n",
       "    </tr>\n",
       "    <tr>\n",
       "      <th>2</th>\n",
       "      <td>7771231235</td>\n",
       "      <td>2020-02-25 03:10:03</td>\n",
       "    </tr>\n",
       "    <tr>\n",
       "      <th>3</th>\n",
       "      <td>7051231236</td>\n",
       "      <td>2019-05-17 16:55:40</td>\n",
       "    </tr>\n",
       "    <tr>\n",
       "      <th>4</th>\n",
       "      <td>7771233377</td>\n",
       "      <td>2020-12-05 05:30:41</td>\n",
       "    </tr>\n",
       "    <tr>\n",
       "      <th>5</th>\n",
       "      <td>7051232255</td>\n",
       "      <td>2021-07-09 20:32:50</td>\n",
       "    </tr>\n",
       "  </tbody>\n",
       "</table>\n",
       "</div>"
      ],
      "text/plain": [
       "      Номер телефона       Время события\n",
       "Номер                                   \n",
       "1         7051231234 2020-10-04 12:01:29\n",
       "2         7771231235 2020-02-25 03:10:03\n",
       "3         7051231236 2019-05-17 16:55:40\n",
       "4         7771233377 2020-12-05 05:30:41\n",
       "5         7051232255 2021-07-09 20:32:50"
      ]
     },
     "execution_count": 216,
     "metadata": {},
     "output_type": "execute_result"
    }
   ],
   "source": [
    "df"
   ]
  },
  {
   "cell_type": "code",
   "execution_count": null,
   "metadata": {},
   "outputs": [],
   "source": []
  },
  {
   "cell_type": "code",
   "execution_count": null,
   "metadata": {},
   "outputs": [],
   "source": []
  }
 ],
 "metadata": {
  "kernelspec": {
   "display_name": "Python 3",
   "language": "python",
   "name": "python3"
  },
  "language_info": {
   "codemirror_mode": {
    "name": "ipython",
    "version": 3
   },
   "file_extension": ".py",
   "mimetype": "text/x-python",
   "name": "python",
   "nbconvert_exporter": "python",
   "pygments_lexer": "ipython3",
   "version": "3.7.6"
  }
 },
 "nbformat": 4,
 "nbformat_minor": 4
}
